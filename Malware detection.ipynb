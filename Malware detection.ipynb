{
 "cells": [
  {
   "cell_type": "markdown",
   "id": "fdd07169-7304-447d-a38b-1b83d3c93c30",
   "metadata": {},
   "source": [
    "# Muhammad Faishal Hasbi - 1301218701"
   ]
  },
  {
   "cell_type": "code",
   "execution_count": 3,
   "id": "c6fde4f9-518e-416e-aeae-4aefc6936de7",
   "metadata": {},
   "outputs": [],
   "source": [
    "import pandas as pd"
   ]
  },
  {
   "cell_type": "code",
   "execution_count": null,
   "id": "a7617554-35c4-41a8-8c81-f0df1830cb7a",
   "metadata": {},
   "outputs": [],
   "source": [
    "dataMal = pd.read_csv("
   ]
  }
 ],
 "metadata": {
  "kernelspec": {
   "display_name": "Python 3 (ipykernel)",
   "language": "python",
   "name": "python3"
  },
  "language_info": {
   "codemirror_mode": {
    "name": "ipython",
    "version": 3
   },
   "file_extension": ".py",
   "mimetype": "text/x-python",
   "name": "python",
   "nbconvert_exporter": "python",
   "pygments_lexer": "ipython3",
   "version": "3.11.2"
  }
 },
 "nbformat": 4,
 "nbformat_minor": 5
}
